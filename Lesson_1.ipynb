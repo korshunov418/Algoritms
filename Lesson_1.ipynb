{
  "nbformat": 4,
  "nbformat_minor": 0,
  "metadata": {
    "colab": {
      "name": "Lesson 1.ipynb",
      "provenance": [],
      "collapsed_sections": [],
      "authorship_tag": "ABX9TyPOzfIJLCBBU4tNy5xLfVf9",
      "include_colab_link": true
    },
    "kernelspec": {
      "name": "python3",
      "display_name": "Python 3"
    },
    "language_info": {
      "name": "python"
    }
  },
  "cells": [
    {
      "cell_type": "markdown",
      "metadata": {
        "id": "view-in-github",
        "colab_type": "text"
      },
      "source": [
        "<a href=\"https://colab.research.google.com/github/korshunov418/Algoritms/blob/main/Lesson_1.ipynb\" target=\"_parent\"><img src=\"https://colab.research.google.com/assets/colab-badge.svg\" alt=\"Open In Colab\"/></a>"
      ]
    },
    {
      "cell_type": "markdown",
      "metadata": {
        "id": "6yWUg5nUdwzo"
      },
      "source": [
        "https://github.com/DmitryChitalov/-algorithms_2021/tree/master/%D0%A3%D1%80%D0%BE%D0%BA%201.%20%D0%9F%D1%80%D0%B0%D0%BA%D1%82%D0%B8%D1%87%D0%B5%D1%81%D0%BA%D0%BE%D0%B5%20%D0%B7%D0%B0%D0%B4%D0%B0%D0%BD%D0%B8%D0%B5"
      ]
    },
    {
      "cell_type": "markdown",
      "metadata": {
        "id": "srBOnDfF6Lj0"
      },
      "source": [
        "##Задание 1.\n"
      ]
    },
    {
      "cell_type": "code",
      "metadata": {
        "id": "Rc-GHX6457GV"
      },
      "source": [
        "import random\n",
        "\n",
        "\n",
        "#############################################################################################\n",
        "def check_1(lst_obj):\n",
        "    \"\"\"Функция должна создать множество из списка.\n",
        "    Алгоритм 3:\n",
        "    Создать множество из списка\n",
        "    Сложность: O(N).\n",
        "    \"\"\"\n",
        "    lst_to_set = set(lst_obj)  # O(len(...))\n",
        "    return lst_to_set  # 1\n",
        "\n",
        "\n",
        "#############################################################################################\n",
        "def check_2(lst_obj):\n",
        "    \"\"\"Функция должная вернуть True, если все элементы списка различаются.\n",
        "    Алгоритм 1:\n",
        "    Проходимся по списку и для каждого элемента проверяем,\n",
        "    что такой элемент отстутствует\n",
        "    в оставшихся справа элементах\n",
        "    Сложность: O(N^2).\n",
        "    \"\"\"\n",
        "    for j in range(len(lst_obj)):          # O(N)\n",
        "        if lst_obj[j] in lst_obj[j+1:]:    # O(N)\n",
        "            return False                   # O(1)\n",
        "    return True                            # O(1)\n",
        "\n",
        "\n",
        "#############################################################################################\n",
        "def check_3(lst_obj):\n",
        "    \"\"\"Функция должная вернуть True, если все элементы списка различаются.\n",
        "    Алгоритм 2:\n",
        "    Вначале выполним для списка сортировку, далее, сравниваем элементы попарно\n",
        "    Если присутствуют дубли, они будут находиться рядом.\n",
        "    Сложность: O(N Log N)\n",
        "    \"\"\"\n",
        "    lst_copy = list(lst_obj)                 # O(N)\n",
        "    lst_copy.sort()                          # O(N Log N)\n",
        "    for i in range(len(lst_obj) - 1):        # O(N)\n",
        "        if lst_copy[i] == lst_copy[i+1]:     # O(1)\n",
        "            return False                     # O(1)\n",
        "    return True                              # O(1)\n",
        "\n",
        "#############################################################################################\n",
        "\n",
        "\n",
        "for j in (50, 500, 1000, 5000, 1000):\n",
        "    # Из 100000 чисел возьмем 'j' случайно выбранных\n",
        "    # Всего 10 тыс. чисел\n",
        "    lst = random.sample(range(-100000, 100000), j)\n",
        "\n",
        "print(check_1(lst))\n",
        "print(check_2(lst))\n",
        "print(check_3(lst))"
      ],
      "execution_count": null,
      "outputs": []
    },
    {
      "cell_type": "markdown",
      "metadata": {
        "id": "8yo4fiKp-YnU"
      },
      "source": [
        "##Задание 2.\n",
        "Реализуйте два алгоритма.\n",
        "Первый, в виде функции, должен обеспечивать поиск минимального значения для списка.\n",
        "В основе алгоритма должно быть сравнение каждого числа со всеми другими элементами списка.\n",
        "Сложность такого алгоритма: O(n^2) - квадратичная.\n",
        "Второй, в виде функции, должен обеспечивать поиск минимального значения для списка.\n",
        "Сложность такого алгоритма: O(n) - линейная.\n",
        "Не забудьте указать где какая сложность.\n",
        "Примечание:\n",
        "Построить список можно через списковое включение.\n",
        "Если у вас возникают сложности, постарайтесь подумать как можно решить задачу,\n",
        "а не писать \"мы это не проходили)\".\n",
        "Алгоритмизатор должен развивать мышление, а это прежде всего практика.\n",
        "А без столкновения со сложностями его не развить."
      ]
    },
    {
      "cell_type": "code",
      "metadata": {
        "colab": {
          "base_uri": "https://localhost:8080/"
        },
        "id": "lDPeLtAg-bTd",
        "outputId": "c53546cc-61b1-4526-fa45-881d6125f83a"
      },
      "source": [
        "def get_min(num_list):               # O(N)\n",
        "  min = num_list[0]                  # O(1)\n",
        "  for i in range(len(num_list) - 1): # O(N)\n",
        "    if min > num_list[i+1]:          # O(1)\n",
        "      min = num_list[i+1]            # O(1)\n",
        "  return(min)\n",
        "\n",
        "def get_min_O2(num_list):              # O(N^2)\n",
        "  min = num_list[0]                    # O(1)\n",
        "  for i in range(len(num_list) - 1):   # O(N)\n",
        "    for j in range(len(num_list) - 1): # O(N)\n",
        "      if (num_list[j] < num_list[i]):  # O(1)\n",
        "        min = num_list[j]              # O(1)\n",
        "    return(min)                        # O(1)\n",
        "\n",
        "#get_min([-20,3,5,9,1,-55,5])\n",
        "#get_min_O2([-200,3,5,9,1,-55,5])"
      ],
      "execution_count": null,
      "outputs": [
        {
          "output_type": "execute_result",
          "data": {
            "text/plain": [
              "-200"
            ]
          },
          "metadata": {
            "tags": []
          },
          "execution_count": 29
        }
      ]
    },
    {
      "cell_type": "markdown",
      "metadata": {
        "id": "b8NMCDXmrdEg"
      },
      "source": [
        "##Задание 3.\n",
        "Для этой задачи:  \n",
        "1) придумайте 2-3 решения (не менее двух)  \n",
        "2) оцените сложность каждого решения в нотации О-большое  \n",
        "3) сделайте вывод, какое решение эффективнее и почему  \n",
        "Примечание:  \n",
        "Без выполнения пунктов 2 и 3 задание считается нерешенным. Пункты 2 и 3 можно выполнить\n",
        "через строки документации в самом коде.  \n",
        "Если у вас возникают сложности, постарайтесь подумать как можно решить задачу,\n",
        "а не писать \"мы это не проходили)\".  \n",
        "Алгоритмизатор должен развивать мышление, а это прежде всего практика.\n",
        "А без столкновения со сложностями его не развить.  \n",
        "Сама задача:  \n",
        "Имеется хранилище с информацией о компаниях: название и годовая прибыль.\n",
        "Для реализации хранилища можно применить любой подход,\n",
        "который вы придумаете, например, реализовать словарь.\n",
        "Реализуйте поиск трех компаний с наибольшей годовой прибылью.  \n",
        "###Результат:  \n",
        "Спосок 2 оказался эфективнее, так как O(N) < O^2"
      ]
    },
    {
      "cell_type": "code",
      "metadata": {
        "colab": {
          "base_uri": "https://localhost:8080/"
        },
        "id": "psWWLLgYrfe1",
        "outputId": "84cf5a68-0a55-4f63-aab2-fc95422e43ae"
      },
      "source": [
        "\n",
        "companies = {\n",
        "    'Роснефть': 708,\n",
        "    'Газпром': 1203,\n",
        "    'Лукойл': 640,\n",
        "    'Сбербанк России': 845,\n",
        "    'Российские железные дороги': 156,\n",
        "    'Ростех': 179\n",
        "}\n",
        "### Способ 1 #O^2\n",
        "companis_list = list(companies.items())\n",
        "values_list = list(companies.values())\n",
        "for i in range(len(values_list) - 1):\n",
        "  firstTree = 0\n",
        "  for j in range(len(values_list) - 1):\n",
        "    if (values_list[i] < values_list[j]): # я посчитал сколько раз i элемент меньше остальных, если он меньше остальных 0 раз, то он самый большой, получается кто набрал 0,1,2 тот в ТОП 3\n",
        "      firstTree += 1\n",
        "  if(firstTree < 3):\n",
        "    print(companis_list[i])\n",
        "\n",
        "### Способ 2 # O(N)\n",
        "companis_list = list(companies.items())\n",
        "revers_companies={}\n",
        "for i in range(len(values_list) - 1):             # O(N)\n",
        "  revers_companies[values_list[i]] = keys_list[i] # поменяем местами keys и values\n",
        "keys_companies = sorted(revers_companies, reverse=True)[:3] #O(NlogN)\n",
        "for company in keys_companies:                    # O(N)\n",
        "  print(revers_companies[company])\n",
        "  "
      ],
      "execution_count": null,
      "outputs": [
        {
          "output_type": "stream",
          "text": [
            "('Роснефть', 708)\n",
            "('Газпром', 1203)\n",
            "('Сбербанк России', 845)\n",
            "Газпром\n",
            "Сбербанк России\n",
            "Роснефть\n"
          ],
          "name": "stdout"
        }
      ]
    },
    {
      "cell_type": "code",
      "metadata": {
        "id": "a1B39n8L728L"
      },
      "source": [
        ""
      ],
      "execution_count": null,
      "outputs": []
    },
    {
      "cell_type": "markdown",
      "metadata": {
        "id": "yPLUjc4NokoR"
      },
      "source": [
        "##Задание 4.\n",
        "Для этой задачи:\n",
        "1) придумайте 2-3 решения (не менее двух)  \n",
        "2) оцените сложность каждого решения в нотации О-большое  \n",
        "3) сделайте вывод, какое решение эффективнее и почему  \n",
        "Примечание:  \n",
        "Без выполнения пунктов 2 и 3 задание считается нерешенным. Пункты 2 и 3 можно выполнить\n",
        "через строки документации в самом коде.\n",
        "Если у вас возникают сложности, постарайтесь подумать как можно решить задачу,\n",
        "а не писать \"мы это не проходили)\".\n",
        "Алгоритмизатор должен развивать мышление, а это прежде всего практика.\n",
        "А без столкновения со сложностями его не развить.\n",
        "Сама задача:  \n",
        "Пользователи веб-ресурса проходят аутентификацию.\n",
        "В системе хранятся логин, пароль и отметка об активации учетной записи.\n",
        "Нужно реализовать проверку, может ли пользователь быть допущен к ресурсу.\n",
        "При этом его учетка должна быть активирована.\n",
        "А если нет, то польз-лю нужно предложить ее пройти.\n",
        "Приложение должно давать ответы на эти вопросы и быть реализовано в виде функции.  \n",
        "Для реализации хранилища можно применить любой подход,\n",
        "который вы придумаете, например, реализовать словарь.\n",
        "\"\"\""
      ]
    },
    {
      "cell_type": "code",
      "metadata": {
        "colab": {
          "base_uri": "https://localhost:8080/"
        },
        "id": "YDMxndanorG7",
        "outputId": "5584f595-e548-4cc3-dd5f-d3fd8870859a"
      },
      "source": [
        "statusCode = {\n",
        "    100: \"Ваша учетная запись не активна\",\n",
        "    101: \"Вы можете продолжить использовать ресурс\",\n",
        "    200: \"Не верно указан пароль\",\n",
        "    300: \"Учетная запись не найдена\",\n",
        "    400: \"Отсутсвует доступ к ресурсу\"\n",
        "}\n",
        "\n",
        "usersBD = [\n",
        "    {\"login\":\"user_login\", \"password\": \"UserPassw0rd\", \"active\": 1},\n",
        "    {\"login\":\"user_login1\", \"password\": \"UserPassw0rd\", \"active\": 0},\n",
        "    {\"login\":\"user_login2\", \"password\": \"UserPassw0rd\", \"active\": 0},\n",
        "    {\"login\":\"user_login3\", \"password\": \"UserPassw0rd\", \"active\": 0},\n",
        "  ]\n",
        "  \n",
        "# Способ 1. O(N)\n",
        "def check_auth(login, password):\n",
        "  for i in range(len(usersBD)):  #O(N)\n",
        "    if(login == usersBD[i][\"login\"]): #O(1)\n",
        "      if(password == usersBD[i][\"password\"]): #O(1)\n",
        "        if(usersBD[i][\"active\"] == 1): #O(1)\n",
        "          return 101 # Пусть это будет код который позволяет продолжать работать с приложением #O(1)\n",
        "        else:\n",
        "          return 100 # Пусть этот код показывает, что пользователь не активен  #O(1)\n",
        "      else:                                                   \n",
        "        if (i == len(usersBD)-1):                #O(1)\n",
        "          return 200 # Пароль не верен           #O(1)\n",
        "    else:                                        #O(1)\n",
        "      if (i == len(usersBD)-1):                  #O(1)\n",
        "        return 300 # логин не найден             #O(1)           \n",
        "\n",
        "print(statusCode[check_auth(\"user_login\", \"UserPassw0rd\")])\n",
        "print(statusCode[check_auth(\"user_login1\", \"UserPassw0rd\")])\n",
        "print(statusCode[check_auth(\"user_login3\", \"UserPassword\")])\n",
        "print(statusCode[check_auth(\"user_dogin1\", \"UserPassw0rd\")])\n",
        "\n",
        "\n",
        "# Способ 2. O(N)\n",
        "def check_auth2(login, password): \n",
        "  for val in usersBD: #O(N)\n",
        "    if(val[\"login\"] == login and val[\"password\"] == password and val[\"active\"] == 1): #O(1)\n",
        "      return 101             #O(1)\n",
        "    return 400               #O(1)\n",
        "\n",
        "print('___________________________________________________')\n",
        "print(statusCode[check_auth2(\"user_login\", \"UserPassw0rd\")])\n",
        "print(statusCode[check_auth2(\"user_login1\", \"UserPassw0rd\")])\n",
        "print(statusCode[check_auth2(\"user_login3\", \"UserPassword\")])\n",
        "print(statusCode[check_auth2(\"user_dogin1\", \"UserPassw0rd\")])"
      ],
      "execution_count": 77,
      "outputs": [
        {
          "output_type": "stream",
          "text": [
            "Вы можете продолжить использовать ресурс\n",
            "Ваша учетная запись не активна\n",
            "Не верно указан пароль\n",
            "Учетная запись не найдена\n",
            "___________________________________________________\n",
            "Вы можете продолжить использовать ресурс\n",
            "Отсутсвует доступ к ресурсу\n",
            "Отсутсвует доступ к ресурсу\n",
            "Отсутсвует доступ к ресурсу\n"
          ],
          "name": "stdout"
        }
      ]
    },
    {
      "cell_type": "markdown",
      "metadata": {
        "id": "KDT6KJlA51z1"
      },
      "source": [
        "##Задание 7.\n",
        "\n",
        "\n"
      ]
    },
    {
      "cell_type": "code",
      "metadata": {
        "colab": {
          "base_uri": "https://localhost:8080/"
        },
        "id": "cGyLPGi_qiLZ",
        "outputId": "cd979287-8aaf-4656-e212-e73558985048"
      },
      "source": [
        "class DequeClass:\n",
        "    def __init__(self):\n",
        "        self.elems = []\n",
        "\n",
        "    def is_empty(self):\n",
        "        return self.elems == []\n",
        "\n",
        "    def add_to_front(self, elem):\n",
        "        self.elems.append(elem)\n",
        "\n",
        "    def add_to_rear(self, elem):\n",
        "        self.elems.insert(0, elem)\n",
        "\n",
        "    def remove_from_front(self):\n",
        "        return self.elems.pop()\n",
        "\n",
        "    def remove_from_rear(self):\n",
        "        return self.elems.pop(0)\n",
        "\n",
        "    def size(self):\n",
        "        return len(self.elems)\n",
        "\n",
        "\n",
        "dc_obj = DequeClass()\n",
        "\n",
        "\n",
        "def pal_checker(string):\n",
        "    string = string.replace(' ', '')\n",
        "    dc_obj = DequeClass()\n",
        "\n",
        "    for el in string:\n",
        "        dc_obj.add_to_rear(el)\n",
        "\n",
        "    still_equal = True\n",
        "\n",
        "    while dc_obj.size() > 1 and still_equal:\n",
        "        first = dc_obj.remove_from_front()\n",
        "        last = dc_obj.remove_from_rear()\n",
        "        if first != last:\n",
        "            still_equal = False\n",
        "\n",
        "    return still_equal\n",
        "\n",
        "\n",
        "print(pal_checker(\"молоко делили ледоколом\"))\n"
      ],
      "execution_count": null,
      "outputs": [
        {
          "output_type": "stream",
          "text": [
            "True\n"
          ],
          "name": "stdout"
        }
      ]
    },
    {
      "cell_type": "code",
      "metadata": {
        "id": "lBcEUCw4q0Fn"
      },
      "source": [
        ""
      ],
      "execution_count": null,
      "outputs": []
    }
  ]
}